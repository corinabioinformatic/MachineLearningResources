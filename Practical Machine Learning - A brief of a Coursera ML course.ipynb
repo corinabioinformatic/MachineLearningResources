{
 "cells": [
  {
   "cell_type": "markdown",
   "metadata": {},
   "source": [
    "# Practical Machine Learning\n",
    "\n",
    "## Why to go through this notebook?\n",
    "\n",
    "* Are you curious about machine learning?\n",
    "* Have you ever running 'machine learning codes' but doesn't understand well how it works?\n",
    "* Are you struggling trying to execute (or even understanding) machine learning algorithms and need more robust basis to make your steps more consistent?\n",
    "* Do you wanna give a try of Machine Learning procedures with R rather than Python or Matlab?\n",
    "\n",
    "If almost all the questions (especially the 4th) are True, this notebook is for you! \n",
    "It is a brief of the course taked at Coursera made by the Johns Hopkins University, and it provides you a criteria to develop yourself in this field keeping on mind the basis.\n",
    "\n",
    "## 0.- The landscape...\n",
    "'Take it easy (wo)man...'\n",
    "Basically take this brief as a videogame. Just think you have a goal (let's say 'find the treasure') and there are several approaches to achive it. Depending on your experience, cleverness and tools, you will able to reach your goals faster and easier. But if not, at least you will get the experience to try it again with the next chance. \n",
    "So the game starts with this idea ...\n",
    "<img src=\"https://corinabioinformatic.github.io/assets/images/MLimportanceOfSteps.jpg\">\n",
    "\n",
    "_Would you be the one(s) who will reach the treasure?_\n"
   ]
  },
  {
   "cell_type": "markdown",
   "metadata": {},
   "source": [
    "\n",
    "## 1.- Stage 1: \n",
    "## _\" Steps are important to build up your  ~~story~~  analysis. \"_\n",
    "\n",
    "Ok folks, you are here because you want to play, right? But first you have to know the rules to fairly win this game, riht? \n",
    "So here my *5 golden rules*. You will be the _dataAnalyst_player1_, and your task is following these rules to get as much points as possible in this game (an probably in your career as a real data analyst apart of ,clearly, wisdom). \n",
    "\n",
    "So here they are:\n",
    "\n",
    "1. *Question* -> \"What is our target? The money!\"\n",
    "2. *Input data* -> \"Getting as much data as we can about how to get the money (like finding a treasure?)\"\n",
    "3. *Features* -> \"Which info are definitively clues to reach the money, and which of them are prescindible?\"\n",
    "4. *Algorithm* -> \"Run the path that looks the best in our map, to reach the money/treasure!\"\n",
    "5. *Evaluation* -> \"Was it the result at the end of the path, that one we expected?(the money?) if not, what did we do wrong? can we try again? So let's try another path, or changing the weight of the clues, or getting more clues...\"\n",
    "\n",
    "As you can see this game start with one question, and you can try several ways and get different answers. The most difficult thing here is choosing an answer, and making sense of it based on all your data and procedure.\n"
   ]
  },
  {
   "cell_type": "raw",
   "metadata": {},
   "source": [
    "### _dataAnalyst_player1_ has been given a question/Challenge:\n",
    "### Can you *train your machine to learn* if an email is spam or it is not? \n",
    "\n",
    "Sure, we can, but how to start? \n",
    "Here the protocol for newbies\n",
    "1. Load data \n",
    "2. Describe it \n",
    "3. Visualize it (plot it)\n",
    "4. Are you able to predict?\n",
    "5. How accurate is your prediction? Why?(Error in and error out)\n"
   ]
  },
  {
   "cell_type": "markdown",
   "metadata": {},
   "source": [
    "(1) Loading the SPAM data from the _kernlab_ library...\n"
   ]
  },
  {
   "cell_type": "code",
   "execution_count": null,
   "metadata": {},
   "outputs": [],
   "source": [
    "library(kernlab)\n",
    "\n",
    "'''\n",
    "_Kernlab_ is an extensible package for kernel-based machine learning methods in R. It takes advantage of R’s new S4 object model and provides a framework for creating and using kernelbased algorithms. The package contains dot product primitives (kernels), implementations of support vector machines and the relevance vector machine, Gaussian processes, a ranking algorithm, kernel PCA, kernel CCA, kernel feature analysis, online kernel methods and a spectral clustering algorithm. Moreover it provides a general purpose quadratic programming solver, and an incomplete Cholesky decomposition method.\n",
    "'''\n",
    "\n",
    "#1.-Loading dataset spam\n",
    "data(spam)\n"
   ]
  },
  {
   "cell_type": "markdown",
   "metadata": {},
   "source": [
    "(2) Describing the data SPAM:\n"
   ]
  },
  {
   "cell_type": "code",
   "execution_count": null,
   "metadata": {},
   "outputs": [],
   "source": [
    "class(spam)\n",
    "colnames(spam)\n",
    "\n",
    "#2.-Looking first and last rows of table spam\n",
    "head(spam)\n",
    "tail(spam)"
   ]
  },
  {
   "cell_type": "markdown",
   "metadata": {},
   "source": [
    "(3) Visualize the data:\n"
   ]
  },
  {
   "cell_type": "code",
   "execution_count": null,
   "metadata": {},
   "outputs": [],
   "source": [
    "#3a.-plot of density of spam to nonspam, color blue, no main \n",
    "plot(density(spam$your[spam$type==\"nonspam\"]),\n",
    "     col=\"blue\", main=\"\", xlab=\"Frequency of 'your'\")\n",
    "\n",
    "#3b.-add lines of density of spam, color red\n",
    "lines(density(spam$your[spam$type==\"spam\"]), col=\"red\")\n",
    "\n",
    "#stablish a threshold which defines the test hypothesis true or false. \n",
    "#value c, and if frequency of 'your' is over C value it means == SPAM\n",
    "\n",
    "#3c.-plot the value of C\n",
    "abline(v=0.5, col = \"black\")\n"
   ]
  },
  {
   "cell_type": "markdown",
   "metadata": {},
   "source": [
    "(4) Predicting if next email input will be SPAM or not"
   ]
  },
  {
   "cell_type": "code",
   "execution_count": null,
   "metadata": {},
   "outputs": [],
   "source": [
    "#4.-Evaluation\n",
    "#predict if predicrion of spam with frequency of 'your' is over 0.5 is really spam or not.\n",
    "prediction <- ifelse(spam$your > 0.5, \"spam\", \"nonspam\")\n",
    "table(prediction, spam$type)/length(spam$type)\n",
    "\n",
    "# Accuracy = true negative + true positive\n",
    "# Accuracy approx. 0.459 +0.292 = 0.751\n"
   ]
  },
  {
   "cell_type": "markdown",
   "metadata": {},
   "source": [
    "(5) Evaluating if the prediction is accurate"
   ]
  },
  {
   "cell_type": "code",
   "execution_count": null,
   "metadata": {},
   "outputs": [],
   "source": [
    "################################\n",
    "#IN SAMPLE VS OUT SAMPLE ERRORS#\n",
    "################################\n",
    "\n",
    "\n",
    "set.seed(333)\n",
    "smallSpam <- spam[sample(dim(spam)[1], size = 10),]\n",
    "spamLabel <- (smallSpam$type==\"spam\")*1 +1\n",
    "plot (smallSpam$capitalAve, col = spamLabel)\n",
    "\n",
    "\n",
    "#Apply rule 1 to smallSpam\n",
    "\n",
    "rule1 <- function(x){\n",
    "  prediction <- rep(NA, length(x))\n",
    "  prediction[x > 2.7] <- \"spam\"\n",
    "  prediction[x < 2.40] <- \"nonspam\"\n",
    "  prediction[(x >= 2.40 & x <= 2.45)] <- \"spam\"\n",
    "  prediction[(x > 2.45 & x <= 2.70)] <- \"nonspam\"\n",
    "  return(prediction)  \n",
    "}\n",
    "\n",
    "table(rule1(smallSpam$capitalAve), smallSpam$type)\n",
    "\n",
    "\n",
    "#Apply rule 2 to smallSpam\n",
    "\n",
    "rule2 <- function(x){\n",
    "  prediction <- rep(NA, length(x))\n",
    "  prediction[x > 2.8] <- \"spam\"\n",
    "  prediction[x <= 2.8] <- \"spam\"\n",
    "  return(prediction)  \n",
    "}\n",
    "\n",
    "table(rule2(smallSpam$capitalAve), smallSpam$type)\n",
    "\n",
    "#Apply to complete spam data\n",
    "table(rule1(spam$capitalAve), spam$type)\n",
    "\n",
    "table(rule2(spam$capitalAve), spam$type)\n",
    "\n",
    "mean (rule1(spam$capitalAve)== spam$type)\n",
    "\n",
    "#Look at accuracy\n",
    "sum(rule1(spam$capitalAve)== spam$type)\n",
    "\n",
    "sum(rule2(spam$capitalAve)== spam$type)\n",
    "\n",
    "#What's the reason that the simplified rule works better than the more complciated rule? : OVERFITTING.\n",
    "\n",
    "\n"
   ]
  },
  {
   "cell_type": "raw",
   "metadata": {},
   "source": [
    "\n",
    "\n"
   ]
  },
  {
   "cell_type": "markdown",
   "metadata": {},
   "source": [
    "## 4.-"
   ]
  },
  {
   "cell_type": "code",
   "execution_count": null,
   "metadata": {},
   "outputs": [],
   "source": []
  }
 ],
 "metadata": {
  "kernelspec": {
   "display_name": "R",
   "language": "R",
   "name": "ir"
  },
  "language_info": {
   "codemirror_mode": "r",
   "file_extension": ".r",
   "mimetype": "text/x-r-source",
   "name": "R",
   "pygments_lexer": "r",
   "version": "3.4.4"
  }
 },
 "nbformat": 4,
 "nbformat_minor": 2
}
