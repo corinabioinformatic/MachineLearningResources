{
 "cells": [
  {
   "cell_type": "code",
   "execution_count": null,
   "metadata": {},
   "outputs": [],
   "source": [
    "#http://dni-institute.in/blogs/random-forest-using-r-step-by-step-tutorial/"
   ]
  },
  {
   "cell_type": "code",
   "execution_count": null,
   "metadata": {},
   "outputs": [],
   "source": [
    "# Load library\n",
    "library(randomForest)\n",
    "# Help on ramdonForest package and function\n",
    "library(help=randomForest)\n",
    "help(randomForest)"
   ]
  },
  {
   "cell_type": "code",
   "execution_count": null,
   "metadata": {},
   "outputs": [],
   "source": [
    "\n",
    "## Read data\n",
    "termCrosssell<-read.csv(file=\"termCrosssell.csv\",header = T)\n",
    "## Explore data frame\n",
    "names(termCrosssell)"
   ]
  },
  {
   "cell_type": "code",
   "execution_count": null,
   "metadata": {},
   "outputs": [],
   "source": [
    "\n",
    "table(termCrosssell$y)/nrow(termCrosssell)\n",
    "## "
   ]
  },
  {
   "cell_type": "code",
   "execution_count": null,
   "metadata": {},
   "outputs": [],
   "source": [
    "\n",
    "sample.ind <- sample(2, \n",
    "                     nrow(termCrosssell),\n",
    "                     replace = T,\n",
    "                     prob = c(0.6,0.4))\n",
    "cross.sell.dev <- termCrosssell[sample.ind==1,]\n",
    "cross.sell.val <- termCrosssell[sample.ind==2,]\n",
    " \n",
    "table(cross.sell.dev$y)/nrow(cross.sell.dev)\n",
    "## \n",
    "##        no       yes \n",
    "## 0.8859289 0.1140711\n",
    " \n",
    " \n",
    "table(cross.sell.val$y)/nrow(cross.sell.val)\n",
    "## \n",
    "## no yes \n",
    "## 0.8894524 0.1105476"
   ]
  },
  {
   "cell_type": "code",
   "execution_count": null,
   "metadata": {},
   "outputs": [],
   "source": [
    "\n",
    "class(cross.sell.dev$y)\n",
    " "
   ]
  },
  {
   "cell_type": "code",
   "execution_count": null,
   "metadata": {},
   "outputs": [],
   "source": [
    "\n",
    "varNames <- names(cross.sell.dev)\n",
    "# Exclude ID or Response variable\n",
    "varNames <- varNames[!varNames %in% c(\"y\")]\n",
    " \n",
    "# add + sign between exploratory variables\n",
    "varNames1 <- paste(varNames, collapse = \"+\")\n",
    " \n",
    "# Add response variable and convert to a formula object\n",
    "rf.form <- as.formula(paste(\"y\", varNames1, sep = \" ~ \"))"
   ]
  },
  {
   "cell_type": "code",
   "execution_count": null,
   "metadata": {},
   "outputs": [],
   "source": [
    "cross.sell.rf <- randomForest(rf.form,\n",
    "                              cross.sell.dev,\n",
    "                              ntree=500,\n",
    "                              importance=T)\n",
    " \n",
    "plot(cross.sell.rf)"
   ]
  },
  {
   "cell_type": "code",
   "execution_count": null,
   "metadata": {},
   "outputs": [],
   "source": [
    "# Variable Importance Plot\n",
    "varImpPlot(cross.sell.rf,\n",
    "           sort = T,\n",
    "           main=\"Variable Importance\",\n",
    "           n.var=5)"
   ]
  },
  {
   "cell_type": "code",
   "execution_count": null,
   "metadata": {},
   "outputs": [],
   "source": [
    "\n",
    "# Variable Importance Table\n",
    "var.imp <- data.frame(importance(cross.sell.rf,\n",
    "           type=2))\n",
    "# make row names as columns\n",
    "var.imp$Variables <- row.names(var.imp)\n",
    "var.imp[order(var.imp$MeanDecreaseGini,decreasing = T),]"
   ]
  },
  {
   "cell_type": "code",
   "execution_count": null,
   "metadata": {},
   "outputs": [],
   "source": [
    "# Predicting response variable\n",
    "cross.sell.dev$predicted.response <- predict(cross.sell.rf ,cross.sell.dev)"
   ]
  },
  {
   "cell_type": "code",
   "execution_count": null,
   "metadata": {},
   "outputs": [],
   "source": [
    "library(e1071)\n",
    "library(caret)\n",
    "## Loading required package: lattice\n",
    "## Loading required package: ggplot2\n",
    "# Create Confusion Matrix\n",
    "confusionMatrix(data=cross.sell.dev$predicted.response,\n",
    "                reference=cross.sell.dev$y,\n",
    "                positive='yes')"
   ]
  },
  {
   "cell_type": "code",
   "execution_count": null,
   "metadata": {},
   "outputs": [],
   "source": [
    "\n",
    "# Predicting response variable\n",
    "cross.sell.val$predicted.response <- predict(cross.sell.rf ,cross.sell.val)\n",
    " \n",
    "# Create Confusion Matrix\n",
    "confusionMatrix(data=cross.sell.val$predicted.response,\n",
    "                reference=cross.sell.val$y,\n",
    "                positive='yes')\n",
    " \n",
    " "
   ]
  },
  {
   "cell_type": "markdown",
   "metadata": {},
   "source": [
    "Accuracy level has dropped to 91.4% but still significantly higher.\n",
    "\n",
    "We had used SVM algorithm for building the model. If you want to read Support Vector Machine for building a cross sell model on the same data sample.\n",
    "\n",
    "References\n",
    "\n",
    "    http://cogns.northwestern.edu/cbmg/LiawAndWiener2002.pdf\n",
    "    http://trevorstephens.com/post/73770963794/titanic-getting-started-with-r-part-5-random\n"
   ]
  }
 ],
 "metadata": {
  "kernelspec": {
   "display_name": "R",
   "language": "R",
   "name": "ir"
  },
  "language_info": {
   "codemirror_mode": "r",
   "file_extension": ".r",
   "mimetype": "text/x-r-source",
   "name": "R",
   "pygments_lexer": "r",
   "version": "3.4.3"
  }
 },
 "nbformat": 4,
 "nbformat_minor": 2
}
