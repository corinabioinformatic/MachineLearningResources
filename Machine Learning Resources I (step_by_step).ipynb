{
 "cells": [
  {
   "cell_type": "markdown",
   "metadata": {},
   "source": [
    "# ♦ ♣ ♠ ♥ Practical Machine Learning ♥ ♠ ♣ ♦\n",
    "\n",
    "\n",
    "\n",
    "## Why to go through this notebook?\n",
    "\n",
    "* Are you curious about machine learning?\n",
    "* Have you ever running 'machine learning scripts' but doesn't understand well how they work?\n",
    "* Are you struggling trying to execute (or even understanding) machine learning algorithms and need more robust basis to make your steps more consistent?\n",
    "* Do you wanna give a try of Machine Learning procedures with R (rather than Python or Matlab)?\n",
    "\n",
    "If almost all the questions (especially the 4th) are 'Yes', this notebook is for you! \n",
    "It is a brief of the course taked at Coursera made by the Johns Hopkins University, and it provides you a criteria to develop yourself in this field keeping on mind the basis.\n",
    "\n",
    "## 0.- The landscape...\n",
    "'Take it easy (wo)man...'\n",
    "Basically take this brief as a videogame. Just think you have a goal (let's say 'find the treasure') and there are several approaches to achive it. Depending on your experience, cleverness and tools, you will able to reach your goals faster and easier. But if not, at least you will get the experience to try it again with the next chance. \n",
    "So the game starts with this idea ...\n",
    "<img src=\"https://corinabioinformatic.github.io/assets/images/MLimportanceOfSteps.jpg\">\n",
    "\n",
    "_Would you be the one(s) who will reach the treasure?_\n"
   ]
  },
  {
   "cell_type": "markdown",
   "metadata": {},
   "source": [
    "\n",
    "## ♦ ♦ ♦  Stage I  ♦ ♦ ♦  \n",
    "## _\" Steps are important to build up your  ~~story~~  analysis. \"_\n",
    "\n",
    "Ok folks, you are here because you want to play, right? But first you have to know the rules to fairly win this game, riht? \n",
    "So here my *5 golden rules*. You will be the _dataAnalyst_player1_, and your task is following these rules to get as much points as possible in this game (an probably in your career as a real data analyst apart of ,clearly, wisdom). \n",
    "\n",
    "So here they are:\n",
    "\n",
    "1. *Question* -> \"What is our target? The money!\"\n",
    "2. *Input data* -> \"Getting as much data as we can about how to get the money (like finding a treasure?)\"\n",
    "3. *Features* -> \"Which info are definitively clues to reach the money, and which of them are prescindible?\"\n",
    "4. *Algorithm* -> \"Run the path that looks the best in our map, to reach the money/treasure!\"\n",
    "5. *Evaluation* -> \"Was it the result at the end of the path, that one we expected?(the money?) if not, what did we do wrong? can we try again? So let's try another path, or changing the weight of the clues, or getting more clues...\"\n",
    "\n",
    "As you can see this game start with one question, and you can try several ways and get different answers. The most difficult thing here is choosing an answer, and making sense of it based on all your data and procedure.\n"
   ]
  },
  {
   "cell_type": "raw",
   "metadata": {},
   "source": [
    "### _dataAnalyst_player1_ has been given a question/Challenge:\n",
    "### Can you *train your machine to learn* if an email is spam or it is not? \n",
    "\n",
    "Sure, we can, but how to start? \n",
    "Here the protocol for newbies\n",
    "1. Load data \n",
    "2. Describe it \n",
    "3. Visualize it (plot it)\n",
    "4. Are you able to predict?\n",
    "5. How accurate is your prediction? Why?(Error in and error out)\n"
   ]
  },
  {
   "cell_type": "markdown",
   "metadata": {},
   "source": [
    "(1) Loading the SPAM data from the _kernlab_ library...\n"
   ]
  },
  {
   "cell_type": "code",
   "execution_count": 2,
   "metadata": {},
   "outputs": [
    {
     "data": {
      "text/html": [
       "<ol class=list-inline>\n",
       "\t<li>'/home/koryclik/R/x86_64-pc-linux-gnu-library/3.4'</li>\n",
       "\t<li>'/home/koryclik/anaconda3/lib/R/library'</li>\n",
       "</ol>\n"
      ],
      "text/latex": [
       "\\begin{enumerate*}\n",
       "\\item '/home/koryclik/R/x86\\_64-pc-linux-gnu-library/3.4'\n",
       "\\item '/home/koryclik/anaconda3/lib/R/library'\n",
       "\\end{enumerate*}\n"
      ],
      "text/markdown": [
       "1. '/home/koryclik/R/x86_64-pc-linux-gnu-library/3.4'\n",
       "2. '/home/koryclik/anaconda3/lib/R/library'\n",
       "\n",
       "\n"
      ],
      "text/plain": [
       "[1] \"/home/koryclik/R/x86_64-pc-linux-gnu-library/3.4\"\n",
       "[2] \"/home/koryclik/anaconda3/lib/R/library\"          "
      ]
     },
     "metadata": {},
     "output_type": "display_data"
    }
   ],
   "source": [
    "#Kernlab is an extensible package for kernel-based machine learning methods in R. It takes advantage of R’s new S4 object model and provides a framework for creating and using kernelbased algorithms. The package contains dot product primitives (kernels), implementations of support vector machines and the relevance vector machine, Gaussian processes, a ranking algorithm, kernel PCA, kernel CCA, kernel feature analysis, online kernel methods and a spectral clustering algorithm. Moreover it provides a general purpose quadratic programming solver, and an incomplete Cholesky decomposition method.\n",
    "library(\"kernlab\")\n",
    "#Loading 'spam' (the name variable is the same)\n",
    "data(spam)\n"
   ]
  },
  {
   "cell_type": "markdown",
   "metadata": {},
   "source": [
    "(2) Describing the data SPAM:\n"
   ]
  },
  {
   "cell_type": "code",
   "execution_count": 16,
   "metadata": {},
   "outputs": [
    {
     "name": "stdout",
     "output_type": "stream",
     "text": [
      "\n",
      "============================\n",
      "Class of 'spam' variable:\n",
      "============================\n"
     ]
    },
    {
     "data": {
      "text/html": [
       "'data.frame'"
      ],
      "text/latex": [
       "'data.frame'"
      ],
      "text/markdown": [
       "'data.frame'"
      ],
      "text/plain": [
       "[1] \"data.frame\""
      ]
     },
     "metadata": {},
     "output_type": "display_data"
    },
    {
     "name": "stdout",
     "output_type": "stream",
     "text": [
      "\n",
      "============================\n",
      "Size of this data.frame:\n",
      "============================\n",
      "Rows | Columns "
     ]
    },
    {
     "data": {
      "text/html": [
       "<ol class=list-inline>\n",
       "\t<li>4601</li>\n",
       "\t<li>58</li>\n",
       "</ol>\n"
      ],
      "text/latex": [
       "\\begin{enumerate*}\n",
       "\\item 4601\n",
       "\\item 58\n",
       "\\end{enumerate*}\n"
      ],
      "text/markdown": [
       "1. 4601\n",
       "2. 58\n",
       "\n",
       "\n"
      ],
      "text/plain": [
       "[1] 4601   58"
      ]
     },
     "metadata": {},
     "output_type": "display_data"
    },
    {
     "name": "stdout",
     "output_type": "stream",
     "text": [
      "\n",
      "============================\n",
      "Values of the first 5 rows in the data.frame 'Spam'\n",
      "============================\n"
     ]
    },
    {
     "data": {
      "text/html": [
       "<table>\n",
       "<thead><tr><th scope=col>make</th><th scope=col>address</th><th scope=col>all</th><th scope=col>num3d</th><th scope=col>our</th><th scope=col>over</th><th scope=col>remove</th><th scope=col>internet</th><th scope=col>order</th><th scope=col>mail</th><th scope=col>⋯</th><th scope=col>charSemicolon</th><th scope=col>charRoundbracket</th><th scope=col>charSquarebracket</th><th scope=col>charExclamation</th><th scope=col>charDollar</th><th scope=col>charHash</th><th scope=col>capitalAve</th><th scope=col>capitalLong</th><th scope=col>capitalTotal</th><th scope=col>type</th></tr></thead>\n",
       "<tbody>\n",
       "\t<tr><td>0.00 </td><td>0.64 </td><td>0.64 </td><td>0    </td><td>0.32 </td><td>0.00 </td><td>0.00 </td><td>0.00 </td><td>0.00 </td><td>0.00 </td><td>⋯    </td><td>0.00 </td><td>0.000</td><td>0    </td><td>0.778</td><td>0.000</td><td>0.000</td><td>3.756</td><td> 61  </td><td> 278 </td><td>spam </td></tr>\n",
       "\t<tr><td>0.21 </td><td>0.28 </td><td>0.50 </td><td>0    </td><td>0.14 </td><td>0.28 </td><td>0.21 </td><td>0.07 </td><td>0.00 </td><td>0.94 </td><td>⋯    </td><td>0.00 </td><td>0.132</td><td>0    </td><td>0.372</td><td>0.180</td><td>0.048</td><td>5.114</td><td>101  </td><td>1028 </td><td>spam </td></tr>\n",
       "\t<tr><td>0.06 </td><td>0.00 </td><td>0.71 </td><td>0    </td><td>1.23 </td><td>0.19 </td><td>0.19 </td><td>0.12 </td><td>0.64 </td><td>0.25 </td><td>⋯    </td><td>0.01 </td><td>0.143</td><td>0    </td><td>0.276</td><td>0.184</td><td>0.010</td><td>9.821</td><td>485  </td><td>2259 </td><td>spam </td></tr>\n",
       "\t<tr><td>0.00 </td><td>0.00 </td><td>0.00 </td><td>0    </td><td>0.63 </td><td>0.00 </td><td>0.31 </td><td>0.63 </td><td>0.31 </td><td>0.63 </td><td>⋯    </td><td>0.00 </td><td>0.137</td><td>0    </td><td>0.137</td><td>0.000</td><td>0.000</td><td>3.537</td><td> 40  </td><td> 191 </td><td>spam </td></tr>\n",
       "\t<tr><td>0.00 </td><td>0.00 </td><td>0.00 </td><td>0    </td><td>0.63 </td><td>0.00 </td><td>0.31 </td><td>0.63 </td><td>0.31 </td><td>0.63 </td><td>⋯    </td><td>0.00 </td><td>0.135</td><td>0    </td><td>0.135</td><td>0.000</td><td>0.000</td><td>3.537</td><td> 40  </td><td> 191 </td><td>spam </td></tr>\n",
       "\t<tr><td>0.00 </td><td>0.00 </td><td>0.00 </td><td>0    </td><td>1.85 </td><td>0.00 </td><td>0.00 </td><td>1.85 </td><td>0.00 </td><td>0.00 </td><td>⋯    </td><td>0.00 </td><td>0.223</td><td>0    </td><td>0.000</td><td>0.000</td><td>0.000</td><td>3.000</td><td> 15  </td><td>  54 </td><td>spam </td></tr>\n",
       "</tbody>\n",
       "</table>\n"
      ],
      "text/latex": [
       "\\begin{tabular}{r|llllllllllllllllllllllllllllllllllllllllllllllllllllllllll}\n",
       " make & address & all & num3d & our & over & remove & internet & order & mail & ⋯ & charSemicolon & charRoundbracket & charSquarebracket & charExclamation & charDollar & charHash & capitalAve & capitalLong & capitalTotal & type\\\\\n",
       "\\hline\n",
       "\t 0.00  & 0.64  & 0.64  & 0     & 0.32  & 0.00  & 0.00  & 0.00  & 0.00  & 0.00  & ⋯     & 0.00  & 0.000 & 0     & 0.778 & 0.000 & 0.000 & 3.756 &  61   &  278  & spam \\\\\n",
       "\t 0.21  & 0.28  & 0.50  & 0     & 0.14  & 0.28  & 0.21  & 0.07  & 0.00  & 0.94  & ⋯     & 0.00  & 0.132 & 0     & 0.372 & 0.180 & 0.048 & 5.114 & 101   & 1028  & spam \\\\\n",
       "\t 0.06  & 0.00  & 0.71  & 0     & 1.23  & 0.19  & 0.19  & 0.12  & 0.64  & 0.25  & ⋯     & 0.01  & 0.143 & 0     & 0.276 & 0.184 & 0.010 & 9.821 & 485   & 2259  & spam \\\\\n",
       "\t 0.00  & 0.00  & 0.00  & 0     & 0.63  & 0.00  & 0.31  & 0.63  & 0.31  & 0.63  & ⋯     & 0.00  & 0.137 & 0     & 0.137 & 0.000 & 0.000 & 3.537 &  40   &  191  & spam \\\\\n",
       "\t 0.00  & 0.00  & 0.00  & 0     & 0.63  & 0.00  & 0.31  & 0.63  & 0.31  & 0.63  & ⋯     & 0.00  & 0.135 & 0     & 0.135 & 0.000 & 0.000 & 3.537 &  40   &  191  & spam \\\\\n",
       "\t 0.00  & 0.00  & 0.00  & 0     & 1.85  & 0.00  & 0.00  & 1.85  & 0.00  & 0.00  & ⋯     & 0.00  & 0.223 & 0     & 0.000 & 0.000 & 0.000 & 3.000 &  15   &   54  & spam \\\\\n",
       "\\end{tabular}\n"
      ],
      "text/markdown": [
       "\n",
       "make | address | all | num3d | our | over | remove | internet | order | mail | ⋯ | charSemicolon | charRoundbracket | charSquarebracket | charExclamation | charDollar | charHash | capitalAve | capitalLong | capitalTotal | type | \n",
       "|---|---|---|---|---|---|\n",
       "| 0.00  | 0.64  | 0.64  | 0     | 0.32  | 0.00  | 0.00  | 0.00  | 0.00  | 0.00  | ⋯     | 0.00  | 0.000 | 0     | 0.778 | 0.000 | 0.000 | 3.756 |  61   |  278  | spam  | \n",
       "| 0.21  | 0.28  | 0.50  | 0     | 0.14  | 0.28  | 0.21  | 0.07  | 0.00  | 0.94  | ⋯     | 0.00  | 0.132 | 0     | 0.372 | 0.180 | 0.048 | 5.114 | 101   | 1028  | spam  | \n",
       "| 0.06  | 0.00  | 0.71  | 0     | 1.23  | 0.19  | 0.19  | 0.12  | 0.64  | 0.25  | ⋯     | 0.01  | 0.143 | 0     | 0.276 | 0.184 | 0.010 | 9.821 | 485   | 2259  | spam  | \n",
       "| 0.00  | 0.00  | 0.00  | 0     | 0.63  | 0.00  | 0.31  | 0.63  | 0.31  | 0.63  | ⋯     | 0.00  | 0.137 | 0     | 0.137 | 0.000 | 0.000 | 3.537 |  40   |  191  | spam  | \n",
       "| 0.00  | 0.00  | 0.00  | 0     | 0.63  | 0.00  | 0.31  | 0.63  | 0.31  | 0.63  | ⋯     | 0.00  | 0.135 | 0     | 0.135 | 0.000 | 0.000 | 3.537 |  40   |  191  | spam  | \n",
       "| 0.00  | 0.00  | 0.00  | 0     | 1.85  | 0.00  | 0.00  | 1.85  | 0.00  | 0.00  | ⋯     | 0.00  | 0.223 | 0     | 0.000 | 0.000 | 0.000 | 3.000 |  15   |   54  | spam  | \n",
       "\n",
       "\n"
      ],
      "text/plain": [
       "  make address all  num3d our  over remove internet order mail ⋯ charSemicolon\n",
       "1 0.00 0.64    0.64 0     0.32 0.00 0.00   0.00     0.00  0.00 ⋯ 0.00         \n",
       "2 0.21 0.28    0.50 0     0.14 0.28 0.21   0.07     0.00  0.94 ⋯ 0.00         \n",
       "3 0.06 0.00    0.71 0     1.23 0.19 0.19   0.12     0.64  0.25 ⋯ 0.01         \n",
       "4 0.00 0.00    0.00 0     0.63 0.00 0.31   0.63     0.31  0.63 ⋯ 0.00         \n",
       "5 0.00 0.00    0.00 0     0.63 0.00 0.31   0.63     0.31  0.63 ⋯ 0.00         \n",
       "6 0.00 0.00    0.00 0     1.85 0.00 0.00   1.85     0.00  0.00 ⋯ 0.00         \n",
       "  charRoundbracket charSquarebracket charExclamation charDollar charHash\n",
       "1 0.000            0                 0.778           0.000      0.000   \n",
       "2 0.132            0                 0.372           0.180      0.048   \n",
       "3 0.143            0                 0.276           0.184      0.010   \n",
       "4 0.137            0                 0.137           0.000      0.000   \n",
       "5 0.135            0                 0.135           0.000      0.000   \n",
       "6 0.223            0                 0.000           0.000      0.000   \n",
       "  capitalAve capitalLong capitalTotal type\n",
       "1 3.756       61          278         spam\n",
       "2 5.114      101         1028         spam\n",
       "3 9.821      485         2259         spam\n",
       "4 3.537       40          191         spam\n",
       "5 3.537       40          191         spam\n",
       "6 3.000       15           54         spam"
      ]
     },
     "metadata": {},
     "output_type": "display_data"
    },
    {
     "name": "stdout",
     "output_type": "stream",
     "text": [
      "\n",
      "============================\n",
      "Values of the last 5 rows in the data.frame 'Spam'\n",
      "============================\n"
     ]
    },
    {
     "data": {
      "text/html": [
       "<table>\n",
       "<thead><tr><th></th><th scope=col>make</th><th scope=col>address</th><th scope=col>all</th><th scope=col>num3d</th><th scope=col>our</th><th scope=col>over</th><th scope=col>remove</th><th scope=col>internet</th><th scope=col>order</th><th scope=col>mail</th><th scope=col>⋯</th><th scope=col>charSemicolon</th><th scope=col>charRoundbracket</th><th scope=col>charSquarebracket</th><th scope=col>charExclamation</th><th scope=col>charDollar</th><th scope=col>charHash</th><th scope=col>capitalAve</th><th scope=col>capitalLong</th><th scope=col>capitalTotal</th><th scope=col>type</th></tr></thead>\n",
       "<tbody>\n",
       "\t<tr><th scope=row>4596</th><td>0.00   </td><td>0      </td><td>1.19   </td><td>0      </td><td>0.00   </td><td>0.00   </td><td>0      </td><td>0      </td><td>0      </td><td>0      </td><td>⋯      </td><td>0.000  </td><td>0.000  </td><td>0      </td><td>0.000  </td><td>0      </td><td>0      </td><td>1.000  </td><td>1      </td><td> 24    </td><td>nonspam</td></tr>\n",
       "\t<tr><th scope=row>4597</th><td>0.31   </td><td>0      </td><td>0.62   </td><td>0      </td><td>0.00   </td><td>0.31   </td><td>0      </td><td>0      </td><td>0      </td><td>0      </td><td>⋯      </td><td>0.000  </td><td>0.232  </td><td>0      </td><td>0.000  </td><td>0      </td><td>0      </td><td>1.142  </td><td>3      </td><td> 88    </td><td>nonspam</td></tr>\n",
       "\t<tr><th scope=row>4598</th><td>0.00   </td><td>0      </td><td>0.00   </td><td>0      </td><td>0.00   </td><td>0.00   </td><td>0      </td><td>0      </td><td>0      </td><td>0      </td><td>⋯      </td><td>0.000  </td><td>0.000  </td><td>0      </td><td>0.353  </td><td>0      </td><td>0      </td><td>1.555  </td><td>4      </td><td> 14    </td><td>nonspam</td></tr>\n",
       "\t<tr><th scope=row>4599</th><td>0.30   </td><td>0      </td><td>0.30   </td><td>0      </td><td>0.00   </td><td>0.00   </td><td>0      </td><td>0      </td><td>0      </td><td>0      </td><td>⋯      </td><td>0.102  </td><td>0.718  </td><td>0      </td><td>0.000  </td><td>0      </td><td>0      </td><td>1.404  </td><td>6      </td><td>118    </td><td>nonspam</td></tr>\n",
       "\t<tr><th scope=row>4600</th><td>0.96   </td><td>0      </td><td>0.00   </td><td>0      </td><td>0.32   </td><td>0.00   </td><td>0      </td><td>0      </td><td>0      </td><td>0      </td><td>⋯      </td><td>0.000  </td><td>0.057  </td><td>0      </td><td>0.000  </td><td>0      </td><td>0      </td><td>1.147  </td><td>5      </td><td> 78    </td><td>nonspam</td></tr>\n",
       "\t<tr><th scope=row>4601</th><td>0.00   </td><td>0      </td><td>0.65   </td><td>0      </td><td>0.00   </td><td>0.00   </td><td>0      </td><td>0      </td><td>0      </td><td>0      </td><td>⋯      </td><td>0.000  </td><td>0.000  </td><td>0      </td><td>0.125  </td><td>0      </td><td>0      </td><td>1.250  </td><td>5      </td><td> 40    </td><td>nonspam</td></tr>\n",
       "</tbody>\n",
       "</table>\n"
      ],
      "text/latex": [
       "\\begin{tabular}{r|llllllllllllllllllllllllllllllllllllllllllllllllllllllllll}\n",
       "  & make & address & all & num3d & our & over & remove & internet & order & mail & ⋯ & charSemicolon & charRoundbracket & charSquarebracket & charExclamation & charDollar & charHash & capitalAve & capitalLong & capitalTotal & type\\\\\n",
       "\\hline\n",
       "\t4596 & 0.00    & 0       & 1.19    & 0       & 0.00    & 0.00    & 0       & 0       & 0       & 0       & ⋯       & 0.000   & 0.000   & 0       & 0.000   & 0       & 0       & 1.000   & 1       &  24     & nonspam\\\\\n",
       "\t4597 & 0.31    & 0       & 0.62    & 0       & 0.00    & 0.31    & 0       & 0       & 0       & 0       & ⋯       & 0.000   & 0.232   & 0       & 0.000   & 0       & 0       & 1.142   & 3       &  88     & nonspam\\\\\n",
       "\t4598 & 0.00    & 0       & 0.00    & 0       & 0.00    & 0.00    & 0       & 0       & 0       & 0       & ⋯       & 0.000   & 0.000   & 0       & 0.353   & 0       & 0       & 1.555   & 4       &  14     & nonspam\\\\\n",
       "\t4599 & 0.30    & 0       & 0.30    & 0       & 0.00    & 0.00    & 0       & 0       & 0       & 0       & ⋯       & 0.102   & 0.718   & 0       & 0.000   & 0       & 0       & 1.404   & 6       & 118     & nonspam\\\\\n",
       "\t4600 & 0.96    & 0       & 0.00    & 0       & 0.32    & 0.00    & 0       & 0       & 0       & 0       & ⋯       & 0.000   & 0.057   & 0       & 0.000   & 0       & 0       & 1.147   & 5       &  78     & nonspam\\\\\n",
       "\t4601 & 0.00    & 0       & 0.65    & 0       & 0.00    & 0.00    & 0       & 0       & 0       & 0       & ⋯       & 0.000   & 0.000   & 0       & 0.125   & 0       & 0       & 1.250   & 5       &  40     & nonspam\\\\\n",
       "\\end{tabular}\n"
      ],
      "text/markdown": [
       "\n",
       "| <!--/--> | make | address | all | num3d | our | over | remove | internet | order | mail | ⋯ | charSemicolon | charRoundbracket | charSquarebracket | charExclamation | charDollar | charHash | capitalAve | capitalLong | capitalTotal | type | \n",
       "|---|---|---|---|---|---|\n",
       "| 4596 | 0.00    | 0       | 1.19    | 0       | 0.00    | 0.00    | 0       | 0       | 0       | 0       | ⋯       | 0.000   | 0.000   | 0       | 0.000   | 0       | 0       | 1.000   | 1       |  24     | nonspam | \n",
       "| 4597 | 0.31    | 0       | 0.62    | 0       | 0.00    | 0.31    | 0       | 0       | 0       | 0       | ⋯       | 0.000   | 0.232   | 0       | 0.000   | 0       | 0       | 1.142   | 3       |  88     | nonspam | \n",
       "| 4598 | 0.00    | 0       | 0.00    | 0       | 0.00    | 0.00    | 0       | 0       | 0       | 0       | ⋯       | 0.000   | 0.000   | 0       | 0.353   | 0       | 0       | 1.555   | 4       |  14     | nonspam | \n",
       "| 4599 | 0.30    | 0       | 0.30    | 0       | 0.00    | 0.00    | 0       | 0       | 0       | 0       | ⋯       | 0.102   | 0.718   | 0       | 0.000   | 0       | 0       | 1.404   | 6       | 118     | nonspam | \n",
       "| 4600 | 0.96    | 0       | 0.00    | 0       | 0.32    | 0.00    | 0       | 0       | 0       | 0       | ⋯       | 0.000   | 0.057   | 0       | 0.000   | 0       | 0       | 1.147   | 5       |  78     | nonspam | \n",
       "| 4601 | 0.00    | 0       | 0.65    | 0       | 0.00    | 0.00    | 0       | 0       | 0       | 0       | ⋯       | 0.000   | 0.000   | 0       | 0.125   | 0       | 0       | 1.250   | 5       |  40     | nonspam | \n",
       "\n",
       "\n"
      ],
      "text/plain": [
       "     make address all  num3d our  over remove internet order mail ⋯\n",
       "4596 0.00 0       1.19 0     0.00 0.00 0      0        0     0    ⋯\n",
       "4597 0.31 0       0.62 0     0.00 0.31 0      0        0     0    ⋯\n",
       "4598 0.00 0       0.00 0     0.00 0.00 0      0        0     0    ⋯\n",
       "4599 0.30 0       0.30 0     0.00 0.00 0      0        0     0    ⋯\n",
       "4600 0.96 0       0.00 0     0.32 0.00 0      0        0     0    ⋯\n",
       "4601 0.00 0       0.65 0     0.00 0.00 0      0        0     0    ⋯\n",
       "     charSemicolon charRoundbracket charSquarebracket charExclamation\n",
       "4596 0.000         0.000            0                 0.000          \n",
       "4597 0.000         0.232            0                 0.000          \n",
       "4598 0.000         0.000            0                 0.353          \n",
       "4599 0.102         0.718            0                 0.000          \n",
       "4600 0.000         0.057            0                 0.000          \n",
       "4601 0.000         0.000            0                 0.125          \n",
       "     charDollar charHash capitalAve capitalLong capitalTotal type   \n",
       "4596 0          0        1.000      1            24          nonspam\n",
       "4597 0          0        1.142      3            88          nonspam\n",
       "4598 0          0        1.555      4            14          nonspam\n",
       "4599 0          0        1.404      6           118          nonspam\n",
       "4600 0          0        1.147      5            78          nonspam\n",
       "4601 0          0        1.250      5            40          nonspam"
      ]
     },
     "metadata": {},
     "output_type": "display_data"
    }
   ],
   "source": [
    "#What kind of variable is 'spam'\n",
    "cat(\"\\n============================\\nClass of 'spam' variable:\\n============================\\n\")\n",
    "class(spam)\n",
    "\n",
    "#In case it is a data.frame, what's the size?\n",
    "cat(\"\\n============================\\nSize of this data.frame:\\n============================\\nRows | Columns \")\n",
    "dim(spam)\n",
    "\n",
    "#Looking at the first rows of table spam\n",
    "cat(\"\\n============================\\nValues of the first 5 rows in the data.frame 'Spam'\\n============================\\n\")\n",
    "head(spam)\n",
    "\n",
    "#Looking at the last rows of table spam\n",
    "cat(\"\\n============================\\nValues of the last 5 rows in the data.frame 'Spam'\\n============================\\n\")\n",
    "tail(spam)"
   ]
  },
  {
   "cell_type": "markdown",
   "metadata": {},
   "source": [
    "(3) Visualizing the data:\n"
   ]
  },
  {
   "cell_type": "code",
   "execution_count": 17,
   "metadata": {},
   "outputs": [
    {
     "name": "stdout",
     "output_type": "stream",
     "text": [
      "\n",
      "============================\n",
      "Density plot\n",
      "============================\n",
      "This plot shows the frequency of spam compared to the non spam emails."
     ]
    },
    {
     "data": {
      "image/png": "[encoded data removed]",
      "text/plain": [
       "Plot with title “”"
      ]
     },
     "metadata": {},
     "output_type": "display_data"
    }
   ],
   "source": [
    "#Plot of density of spam to nonspam, color blue, no main \n",
    "cat(\"\\n============================\\nDensity plot\\n============================\\n\n",
    "Let's show how many times appear the word 'your' in the real SPAM emails (red line) compared to the real NON-SPAM emails (blue line)\n",
    "\\n \")\n",
    "plot(density(spam$your[spam$type==\"nonspam\"]),\n",
    "     col=\"blue\", main=\"\", xlab=\"Frequency of 'your'\")\n",
    "\n",
    "#3b.-add lines of density of spam, color red\n",
    "lines(density(spam$your[spam$type==\"spam\"]), col=\"red\")\n",
    "\n",
    "#stablish a threshold which defines the test hypothesis true or false. \n",
    "#value c, and if frequency of 'your' is over C value it means == SPAM\n",
    "\n",
    "#3c.-plot the value of C\n",
    "abline(v=0.5, col = \"black\")\n",
    "\n",
    "cat(\"As a conclusion, we can see that most of the non-spam email contains a low frequency of 'your' word\\n\n",
    "whereas not so many SPAM email contains a high frequency of 'your' word.\\n\n",
    "Counting the number of times that this feature (word 'yours') appears, provides a preview about if this feature makes the difference to distinguish between SPAM and non-SPAM emails.\""
   ]
  },
  {
   "cell_type": "markdown",
   "metadata": {},
   "source": [
    "(4) Predicting if next email input will be SPAM or not"
   ]
  },
  {
   "cell_type": "code",
   "execution_count": 22,
   "metadata": {},
   "outputs": [
    {
     "name": "stdout",
     "output_type": "stream",
     "text": [
      "\n",
      "============================\n",
      " Table of real SPAM vs Assumed SPAM(based in the 'your' feature)\n",
      "============================\n",
      "\n",
      "In the plot abobe there is a vertical black line at the 0.5 of frequency axis. \n",
      "\n",
      "We create our first threshold/assumption, that is that all the emails with a frequency of the word 'your' over 0.5 will be SPAM.\n",
      " \n",
      "If not, it would not be SPAM\n"
     ]
    },
    {
     "data": {
      "text/plain": [
       "          \n",
       "prediction   nonspam      spam\n",
       "   nonspam 0.4590306 0.1017170\n",
       "   spam    0.1469246 0.2923278"
      ]
     },
     "metadata": {},
     "output_type": "display_data"
    },
    {
     "name": "stdout",
     "output_type": "stream",
     "text": [
      "Take it account the real-SPAM is compared with our assumed SPAM. \n",
      " \n",
      "Ideally real-SPAM number should be the same as assumed SPAM, which means that our feature determines exactly which is SPAM as which is not.\n",
      "\n",
      "But in this table, the assumed non-SPAM does not match completely with the real-non-SPAM. So to translate this 'error' or 'accuracy'\n",
      "\n",
      "in numbers, let's go to the next step!."
     ]
    }
   ],
   "source": [
    "#Predict if prediction of spam with frequency of 'your' is over 0.5 is really spam or not.\n",
    "cat(\"\\n============================\\n Table of real SPAM vs Assumed SPAM(based in the 'your' feature)\\n============================\\n\n",
    "In the plot abobe there is a vertical black line at the 0.5 of frequency axis. \\n\n",
    "We create our first threshold/assumption, that is that all the emails with a frequency of the word 'your' over 0.5 will be SPAM.\\n \n",
    "If not, it would not be SPAM\\n\")\n",
    "prediction <- ifelse(spam$your > 0.5, \"spam\", \"nonspam\")\n",
    "table(prediction, spam$type)/length(spam$type)\n",
    "\n",
    "# Accuracy = true negative + true positive\n",
    "# Accuracy approx. 0.459 +0.292 = 0.751\n",
    "\n",
    "cat(\"Take it account the real-SPAM is compared with our assumed SPAM. \\n \n",
    "Ideally real-SPAM number should be the same as assumed SPAM, which means that our feature determines exactly which is SPAM as which is not.\\n\n",
    "But in this table, the assumed non-SPAM does not match completely with the real-non-SPAM. So to translate this 'error' or 'accuracy'\\n\n",
    "in numbers, let's go to the next step!.\")"
   ]
  },
  {
   "cell_type": "markdown",
   "metadata": {},
   "source": [
    "(5) Evaluating if the prediction is accurate"
   ]
  },
  {
   "cell_type": "code",
   "execution_count": 25,
   "metadata": {
    "scrolled": false
   },
   "outputs": [
    {
     "name": "stdout",
     "output_type": "stream",
     "text": [
      "\n",
      "============================\n",
      " IN SAMPLE VS OUT SAMPLE ERRORS\n",
      "============================\n",
      "\n",
      "Take it account in this example we have TRUE data values. So we know the TRUE. And we can compare the real TRUE with our assumption based in a feature about 'what could be defined as True'.\n",
      "\n",
      "Ideally the choosed feature we selected would be definetly the key-difference between SPAM email and non-SPAM email. \n",
      "\n",
      "So if we train our computer to learn a mathematical formula to separate SPAM email from non-SPAM email based in determined feature(s)\n",
      "\n",
      "it will be able to apply this formula to the next input of data, and gime the correct outcome (a correct classification about if it is or not SPAM)\n",
      "\n",
      "but in real life there is noise in the data very often. so the trained machine has some IN SAMPLE error. Just the mathematical formula is not perfect\n",
      "\n",
      "Moreover when we add another input data from outside, it also contains some noise, and this is the OUT SAMPLE error. \n",
      "\n",
      "In the code here below we:\n",
      "\n",
      "[1]Get a subset of the interested dataset (let's say a subset of size 10)\n",
      "[2]We visualize this subset of data"
     ]
    },
    {
     "data": {
      "image/png": "[encoded data removed]",
      "text/plain": [
       "plot without title"
      ]
     },
     "metadata": {},
     "output_type": "display_data"
    }
   ],
   "source": [
    "################################\n",
    "#IN SAMPLE VS OUT SAMPLE ERRORS#\n",
    "################################\n",
    "cat(\"\\n============================\\n IN SAMPLE VS OUT SAMPLE ERRORS\\n============================\\n\n",
    "Take it account in this example we have TRUE data values. So we know the TRUE. And we can compare the real TRUE with our assumption based in a feature about 'what could be defined as True'.\\n\n",
    "Ideally the choosed feature we selected would be definetly the key-difference between SPAM email and non-SPAM email. \\n\n",
    "So if we train our computer to learn a mathematical formula to separate SPAM email from non-SPAM email based in determined feature(s)\\n\n",
    "it will be able to apply this formula to the next input of data, and gime the correct outcome (a correct classification about if it is or not SPAM)\\n\n",
    "but in real life there is noise in the data very often. so the trained machine has some IN SAMPLE error. Just the mathematical formula is not perfect\\n\n",
    "Moreover when we add another input data from outside, it also contains some noise, and this is the OUT SAMPLE error. \\n\n",
    "In the code here below we:\\n\n",
    "[1]Get a subset of the interested dataset (let's say a subset of size 10)\\n\")\n",
    "set.seed(333)\n",
    "smallSpam <- spam[sample(dim(spam)[1], size = 10),]\n",
    "cat(\"[2]We visualize this subset of data\")\n",
    "spamLabel <- (smallSpam$type==\"spam\")*1 +1\n",
    "plot (smallSpam$capitalAve, col = spamLabel)\n",
    "\n",
    "\n"
   ]
  },
  {
   "cell_type": "code",
   "execution_count": 29,
   "metadata": {},
   "outputs": [
    {
     "name": "stdout",
     "output_type": "stream",
     "text": [
      "\n",
      " Based on the feature/colum 'capitalAve' we create a threshold to assume the email is SPAM or non-SPAM.\n",
      "\n",
      "- if value of capitalAve is over 2.7, it is tagged as a SPAM\n",
      "\n",
      "- whereas if value of capitalAve is under 2.40, it will be nonspam\n",
      "\n",
      "- in addition, if the values are bewteeen 2.40 and 2.45 it will be considered spam\n",
      "\n",
      "- and finally if the values of capitalAve are between 2.45 and 2.70 will be non-spam\n"
     ]
    },
    {
     "data": {
      "text/plain": [
       "         \n",
       "          nonspam spam\n",
       "  nonspam       5    0\n",
       "  spam          0    5"
      ]
     },
     "metadata": {},
     "output_type": "display_data"
    },
    {
     "name": "stdout",
     "output_type": "stream",
     "text": [
      "\n",
      "so in the following table we can visualize again how our rules for detecting real SPAM emails trying to cluster all the real SPAM emails(but they don't do it accurately)\n",
      "\n",
      "We create another rule to see how not to be accurate with our classification of our data, and define these sentences:\n",
      "\n",
      "-If the value of capitalAve row is over 2.8 it will be tagged as Spam\n",
      "\n",
      "-elif the value of capitalAve row is under 2.8 it will be tagged as spam too"
     ]
    },
    {
     "data": {
      "text/plain": [
       "         \n",
       "          nonspam spam\n",
       "  nonspam       5    1\n",
       "  spam          0    4"
      ]
     },
     "metadata": {},
     "output_type": "display_data"
    },
    {
     "name": "stdout",
     "output_type": "stream",
     "text": [
      "\n",
      "\n",
      "\n",
      "Now, applying rule1 first, and rule2 second over the whole(and not the small subset) of data let's see the results:\n",
      "\n",
      "===============================\n",
      "rule1 Table\n",
      "===============================\n"
     ]
    },
    {
     "data": {
      "text/plain": [
       "         \n",
       "          nonspam spam\n",
       "  nonspam    2141  588\n",
       "  spam        647 1225"
      ]
     },
     "metadata": {},
     "output_type": "display_data"
    },
    {
     "name": "stdout",
     "output_type": "stream",
     "text": [
      "\n",
      "===============================\n",
      "rule2 Table\n",
      "===============================\n"
     ]
    },
    {
     "data": {
      "text/plain": [
       "         \n",
       "          nonspam spam\n",
       "  nonspam    2224  642\n",
       "  spam        564 1171"
      ]
     },
     "metadata": {},
     "output_type": "display_data"
    },
    {
     "name": "stdout",
     "output_type": "stream",
     "text": [
      "\n",
      "===============================\n",
      "Calculating the accuracy\n",
      "===============================\n"
     ]
    },
    {
     "data": {
      "text/html": [
       "3366"
      ],
      "text/latex": [
       "3366"
      ],
      "text/markdown": [
       "3366"
      ],
      "text/plain": [
       "[1] 3366"
      ]
     },
     "metadata": {},
     "output_type": "display_data"
    },
    {
     "data": {
      "text/html": [
       "3395"
      ],
      "text/latex": [
       "3395"
      ],
      "text/markdown": [
       "3395"
      ],
      "text/plain": [
       "[1] 3395"
      ]
     },
     "metadata": {},
     "output_type": "display_data"
    },
    {
     "name": "stdout",
     "output_type": "stream",
     "text": [
      "What's the reason that the simplified rule (rule2) works better than the more complicated rule? : OVERFITTING."
     ]
    }
   ],
   "source": [
    "\n",
    "cat(\"\\n Based on the feature/colum 'capitalAve' we create a threshold to assume the email is SPAM or non-SPAM.\\n\n",
    "- if value of capitalAve is over 2.7, it is tagged as a SPAM\\n\n",
    "- whereas if value of capitalAve is under 2.40, it will be nonspam\\n\n",
    "- in addition, if the values are bewteeen 2.40 and 2.45 it will be considered spam\\n\n",
    "- and finally if the values of capitalAve are between 2.45 and 2.70 will be non-spam\\n\")\n",
    "#Apply rule 1 to smallSpam\n",
    "\n",
    "rule1 <- function(x){\n",
    "  prediction <- rep(NA, length(x))\n",
    "  prediction[x > 2.7] <- \"spam\"\n",
    "  prediction[x < 2.40] <- \"nonspam\"\n",
    "  prediction[(x >= 2.40 & x <= 2.45)] <- \"spam\"\n",
    "  prediction[(x > 2.45 & x <= 2.70)] <- \"nonspam\"\n",
    "  return(prediction)  \n",
    "}\n",
    "\n",
    "table(rule1(smallSpam$capitalAve), smallSpam$type)\n",
    "\n",
    "cat(\"\\nso in the following table we can visualize again how our rules for detecting real SPAM emails trying to cluster all the real SPAM emails(but they don't do it accurately)\\n\")\n",
    "\n",
    "#Apply rule 2 to smallSpam\n",
    "\n",
    "cat(\"\\nWe create another rule to see how not to be accurate with our classification of our data, and define these sentences:\\n\n",
    "-If the value of capitalAve row is over 2.8 it will be tagged as Spam\\n\n",
    "-elif the value of capitalAve row is under 2.8 it will be tagged as spam too\")\n",
    "rule2 <- function(x){\n",
    "  prediction <- rep(NA, length(x))\n",
    "  prediction[x > 2.8] <- \"spam\"\n",
    "  prediction[x <= 2.8] <- \"nonspam\"\n",
    "  return(prediction)  \n",
    "}\n",
    "\n",
    "table(rule2(smallSpam$capitalAve), smallSpam$type)\n",
    "\n",
    "cat(\"\\n\\n\\nNow, applying rule1 first, and rule2 second over the whole(and not the small subset) of data let's see the results:\\n\")\n",
    "#Apply to complete spam data\n",
    "cat(\"\\n===============================\\nrule1 Table\\n===============================\\n\")\n",
    "table(rule1(spam$capitalAve), spam$type)\n",
    "\n",
    "cat(\"\\n===============================\\nrule2 Table\\n===============================\\n\")\n",
    "table(rule2(spam$capitalAve), spam$type)\n",
    "\n",
    "#cat(\"the mean of our prediction outcomes is equal to the mean of the real outcomes?\")\n",
    "#mean (rule1(spam$capitalAve)== spam$type)\n",
    "\n",
    "cat(\"\\n===============================\\nCalculating the accuracy\\n===============================\\n\")\n",
    "\n",
    "#Looking at accuracy\n",
    "sum(rule1(spam$capitalAve)== spam$type)\n",
    "sum(rule2(spam$capitalAve)== spam$type)\n",
    "\n",
    "cat (\"rule2 has more right outcomes than rule1\\n What's the reason that the simplified rule (rule2) works better than the more complicated rule? : OVERFITTING.\")\n",
    "\n"
   ]
  },
  {
   "cell_type": "markdown",
   "metadata": {},
   "source": [
    "### Receiver Operating Characteristics (ROC) curves\n",
    "\n",
    "These are very commonly used techniques to measure the quality or goodness of a prediction algorithm.\n",
    "\n",
    "To illustrate this concept we will take an example from [Aaron Grzasko](http://rstudio-pubs-static.s3.amazonaws.com/220197_7131fb0b2455404cb95ea8f788d45828.html)\" )\n"
   ]
  },
  {
   "cell_type": "code",
   "execution_count": 4,
   "metadata": {},
   "outputs": [
    {
     "name": "stdout",
     "output_type": "stream",
     "text": [
      "\n",
      "============================================\n",
      "Receiver Operating Characteristics curves\n",
      "\n",
      "====================================\n"
     ]
    },
    {
     "data": {
      "text/plain": [
       "\n",
       "\n",
       "| age| seniority|men |urban |private |marital |y  |\n",
       "|---:|---------:|:---|:-----|:-------|:-------|:--|\n",
       "|  58|        32|1   |1     |1       |C       |0  |\n",
       "|  37|        30|1   |0     |1       |C       |1  |\n",
       "|  56|        28|1   |0     |1       |C       |1  |\n",
       "|  68|        27|1   |0     |1       |C       |0  |\n",
       "|  58|        26|1   |0     |1       |C       |0  |\n",
       "|  57|        26|1   |0     |0       |O       |0  |"
      ]
     },
     "metadata": {},
     "output_type": "display_data"
    }
   ],
   "source": [
    "cat(\"\\n============================================\\nReceiver Operating Characteristics curves\n",
    "\\n====================================\\n\")\n",
    "\n",
    "\n",
    "library(knitr)\n",
    "library(randomForest)\n",
    "\n",
    "#Load and Examine Data\n",
    "myurl <- \"https://raw.githubusercontent.com/spitakiss/Data607_Pres1/master/FullCoverage.csv\"\n",
    "full.cov = read.csv(myurl,header=TRUE)\n",
    "\n",
    "\n",
    "full.cov$men <- factor(full.cov$men)\n",
    "full.cov$urban <- factor(full.cov$urban)\n",
    "full.cov$private <- factor(full.cov$private)\n",
    "full.cov$y <- factor(full.cov$y)\n",
    "\n",
    "kable(head(full.cov))"
   ]
  },
  {
   "cell_type": "code",
   "execution_count": 5,
   "metadata": {},
   "outputs": [
    {
     "data": {
      "text/plain": [
       "\n",
       "\n",
       "|   |     age      |  seniority   |men    |urban  |private |marital |y      |\n",
       "|:--|:-------------|:-------------|:------|:------|:-------|:-------|:------|\n",
       "|   |Min.   :15.00 |Min.   : 2.00 |0: 990 |0:2617 |0:  39  |C:2973  |0:2613 |\n",
       "|   |1st Qu.:36.00 |1st Qu.: 5.00 |1:3010 |1:1383 |1:3961  |O: 166  |1:1387 |\n",
       "|   |Median :45.00 |Median :10.00 |NA     |NA     |NA      |S: 861  |NA     |\n",
       "|   |Mean   :46.47 |Mean   :10.88 |NA     |NA     |NA      |NA      |NA     |\n",
       "|   |3rd Qu.:56.00 |3rd Qu.:15.00 |NA     |NA     |NA      |NA      |NA     |\n",
       "|   |Max.   :92.00 |Max.   :40.00 |NA     |NA     |NA      |NA      |NA     |"
      ]
     },
     "metadata": {},
     "output_type": "display_data"
    }
   ],
   "source": [
    "kable(summary(full.cov))"
   ]
  },
  {
   "cell_type": "markdown",
   "metadata": {},
   "source": [
    "Variable Definitions for this dataset\n",
    "\n",
    "*    AGE: integer age of policyholder\n",
    "*    SENIORITY: number of years at company\n",
    "*    MEN: 1 = male, 0 = female\n",
    "*    URBAN: 1= urban environment, 0 = rural environment\n",
    "*    PRIVATE: 1 = private use, 0 = commercial use\n",
    "*    MARTIAL: “c” = married couple, “s” = single, “o” = other\n",
    "*    Y: dependent, or response variable, 1 = full coverage, 0 = not full coverage\n"
   ]
  },
  {
   "cell_type": "code",
   "execution_count": 6,
   "metadata": {},
   "outputs": [
    {
     "name": "stdout",
     "output_type": "stream",
     "text": [
      "\n",
      "=================\n",
      "Fit to Logistic regression\n",
      "=================\n",
      "\n",
      "Model Output"
     ]
    },
    {
     "data": {
      "text/plain": [
       "\n",
       "Call:\n",
       "glm(formula = y ~ men + urban + private + factor(marital) + age + \n",
       "    seniority, family = binomial(link = logit))\n",
       "\n",
       "Deviance Residuals: \n",
       "    Min       1Q   Median       3Q      Max  \n",
       "-2.4514  -0.8087  -0.5007   1.0458   2.7424  \n",
       "\n",
       "Coefficients:\n",
       "                  Estimate Std. Error z value Pr(>|z|)    \n",
       "(Intercept)      -0.257479   0.485572  -0.530   0.5959    \n",
       "men1             -0.961115   0.085914 -11.187   <2e-16 ***\n",
       "urban1            1.172564   0.078230  14.989   <2e-16 ***\n",
       "private1          1.065014   0.469146   2.270   0.0232 *  \n",
       "factor(marital)C -0.082704   0.095988  -0.862   0.3889    \n",
       "factor(marital)O  0.160891   0.200019   0.804   0.4212    \n",
       "age              -0.057953   0.003836 -15.107   <2e-16 ***\n",
       "seniority         0.133266   0.006829  19.516   <2e-16 ***\n",
       "---\n",
       "Signif. codes:  0 ‘***’ 0.001 ‘**’ 0.01 ‘*’ 0.05 ‘.’ 0.1 ‘ ’ 1\n",
       "\n",
       "(Dispersion parameter for binomial family taken to be 1)\n",
       "\n",
       "    Null deviance: 5163.3  on 3999  degrees of freedom\n",
       "Residual deviance: 4287.8  on 3992  degrees of freedom\n",
       "AIC: 4303.8\n",
       "\n",
       "Number of Fisher Scoring iterations: 4\n"
      ]
     },
     "metadata": {},
     "output_type": "display_data"
    }
   ],
   "source": [
    "cat(\"\\n=================\\nFit to Logistic regression\\n=================\\n\")\n",
    "attach(full.cov)\n",
    "marital = relevel(marital,ref=\"S\")\n",
    "\n",
    "# Fit to Logistic regression \n",
    "FullcovModel = glm(y~men+urban+private+factor(marital)+age+seniority,family=binomial(link=logit))\n",
    "\n",
    "cat(\"\\nModel Output\")\n",
    "summary(FullcovModel)"
   ]
  },
  {
   "cell_type": "code",
   "execution_count": 7,
   "metadata": {},
   "outputs": [
    {
     "name": "stdout",
     "output_type": "stream",
     "text": [
      "Calculate Pseudo R-2"
     ]
    },
    {
     "data": {
      "text/plain": [
       "'log Lik.' 0.1695591 (df=8)"
      ]
     },
     "metadata": {},
     "output_type": "display_data"
    }
   ],
   "source": [
    "cat(\"\\n\\nCalculate Pseudo R-2\")\n",
    "FullcovModelRed <- glm(y~1, family=binomial(link=logit))\n",
    "1-(logLik(FullcovModel))/(logLik(FullcovModelRed))"
   ]
  },
  {
   "cell_type": "code",
   "execution_count": 8,
   "metadata": {},
   "outputs": [
    {
     "name": "stdout",
     "output_type": "stream",
     "text": [
      "\n",
      "=================\n",
      "Fit random forest\n",
      "=================\n",
      "\n",
      "Call:\n",
      " randomForest(formula = y ~ men + urban + private + factor(marital) +      age + seniority, data = full.cov) \n",
      "               Type of random forest: classification\n",
      "                     Number of trees: 500\n",
      "No. of variables tried at each split: 2\n",
      "\n",
      "        OOB estimate of  error rate: 29.38%\n",
      "Confusion matrix:\n",
      "     0   1 class.error\n",
      "0 1997 616   0.2357444\n",
      "1  559 828   0.4030281\n"
     ]
    }
   ],
   "source": [
    "cat(\"\\n=================\\nFit random forest\\n=================\\n\")\n",
    "\n",
    "rf <- randomForest(y~men+urban+private+factor(marital)+age+seniority,data=full.cov)\n",
    "\n",
    "# Model output\n",
    "print(rf) "
   ]
  },
  {
   "cell_type": "code",
   "execution_count": 9,
   "metadata": {},
   "outputs": [
    {
     "name": "stdout",
     "output_type": "stream",
     "text": [
      "\n",
      "Importance of each predictor:"
     ]
    },
    {
     "data": {
      "text/html": [
       "<table>\n",
       "<thead><tr><th></th><th scope=col>MeanDecreaseGini</th></tr></thead>\n",
       "<tbody>\n",
       "\t<tr><th scope=row>men</th><td> 65.831888</td></tr>\n",
       "\t<tr><th scope=row>urban</th><td> 95.107258</td></tr>\n",
       "\t<tr><th scope=row>private</th><td>  7.235148</td></tr>\n",
       "\t<tr><th scope=row>factor(marital)</th><td> 40.739543</td></tr>\n",
       "\t<tr><th scope=row>age</th><td>191.200535</td></tr>\n",
       "\t<tr><th scope=row>seniority</th><td>209.523290</td></tr>\n",
       "</tbody>\n",
       "</table>\n"
      ],
      "text/latex": [
       "\\begin{tabular}{r|l}\n",
       "  & MeanDecreaseGini\\\\\n",
       "\\hline\n",
       "\tmen &  65.831888\\\\\n",
       "\turban &  95.107258\\\\\n",
       "\tprivate &   7.235148\\\\\n",
       "\tfactor(marital) &  40.739543\\\\\n",
       "\tage & 191.200535\\\\\n",
       "\tseniority & 209.523290\\\\\n",
       "\\end{tabular}\n"
      ],
      "text/markdown": [
       "\n",
       "| <!--/--> | MeanDecreaseGini | \n",
       "|---|---|---|---|---|---|\n",
       "| men |  65.831888 | \n",
       "| urban |  95.107258 | \n",
       "| private |   7.235148 | \n",
       "| factor(marital) |  40.739543 | \n",
       "| age | 191.200535 | \n",
       "| seniority | 209.523290 | \n",
       "\n",
       "\n"
      ],
      "text/plain": [
       "                MeanDecreaseGini\n",
       "men              65.831888      \n",
       "urban            95.107258      \n",
       "private           7.235148      \n",
       "factor(marital)  40.739543      \n",
       "age             191.200535      \n",
       "seniority       209.523290      "
      ]
     },
     "metadata": {},
     "output_type": "display_data"
    }
   ],
   "source": [
    "cat(\"\\nImportance of each predictor:\")\n",
    "importance(rf) # importance of each predictor"
   ]
  },
  {
   "cell_type": "code",
   "execution_count": 11,
   "metadata": {},
   "outputs": [
    {
     "name": "stdout",
     "output_type": "stream",
     "text": [
      "\n",
      "=================\n",
      "ROC curves\n",
      "=================\n",
      "\n",
      "Calculating sensitivity and false positive measures for logit model...\n",
      "Calculating sensitivity and false positive measures for random forest model...Plotting..."
     ]
    },
    {
     "data": {
      "image/png": "[encoded data removed]",
      "text/plain": [
       "plot without title"
      ]
     },
     "metadata": {},
     "output_type": "display_data"
    }
   ],
   "source": [
    "#===ROC curves=====\n",
    "cat(\"\\n=================\\nROC curves\\n=================\\n\")\n",
    "\n",
    "cat(\"\\nCalculating sensitivity and false positive measures for logit model...\")\n",
    "\n",
    "fity_ypos <- FullcovModel$fitted[y == 1]\n",
    "fity_yneg <- FullcovModel$fitted[y == 0]\n",
    "\n",
    "sort_fity <- sort(FullcovModel$fitted.values)\n",
    "\n",
    "sens <- 0\n",
    "spec_c <- 0\n",
    "\n",
    "for (i in length(sort_fity):1){\n",
    "    sens <- c(sens, mean(fity_ypos >= sort_fity[i]))\n",
    "    spec_c <- c(spec_c, mean(fity_yneg >= sort_fity[i]))\n",
    "    \n",
    "} \n",
    "\n",
    "cat(\"\\nCalculating sensitivity and false positive measures for random forest model...\")\n",
    "\n",
    "fity_ypos2 <- as.numeric(rf$pred[y == 1]) - 1\n",
    "fity_yneg2 <- as.numeric(rf$pred[y == 0]) - 1\n",
    "\n",
    "sort_fity2 <- as.numeric(sort(rf$pred)) - 1\n",
    "\n",
    "sens2 <- 0\n",
    "spec_c2 <- 0\n",
    "\n",
    "for (i in length(sort_fity2):1){\n",
    "    sens2 <- (c(sens2, mean(fity_ypos2 >= sort_fity2[i])))\n",
    "    spec_c2 <- (c(spec_c2, mean(fity_yneg2 >= sort_fity2[i])))\n",
    "} \n",
    "\n",
    "cat(\"Plotting...\")# plot ROC curves\n",
    "\n",
    "plot(spec_c, sens, xlim = c(0, 1), ylim = c(0, 1), type = \"l\", \n",
    "     xlab = \"false positive rate\", ylab = \"true positive rate\", col = 'blue')\n",
    "abline(0, 1, col= \"black\")\n",
    "\n",
    "lines(spec_c2, sens2, col='green')\n",
    "legend(\"topleft\", legend = c(\"logit\",\"random forest\") , pch = 15, bty = 'n', col = c(\"blue\",\"green\"))"
   ]
  },
  {
   "cell_type": "code",
   "execution_count": 13,
   "metadata": {},
   "outputs": [
    {
     "name": "stdout",
     "output_type": "stream",
     "text": [
      "\n",
      "===================\n",
      "Area under curve and Lift\n",
      "=================\n",
      "\n",
      " ∗ For Logistic regression"
     ]
    },
    {
     "data": {
      "text/html": [
       "<dl>\n",
       "\t<dt>$area</dt>\n",
       "\t\t<dd>0.787805192329076</dd>\n",
       "\t<dt>$cutoff</dt>\n",
       "\t\t<dd><strong>1108:</strong> 0.338200904226656</dd>\n",
       "\t<dt>$sensopt</dt>\n",
       "\t\t<dd>0.8788752703677</dd>\n",
       "\t<dt>$spec_copt</dt>\n",
       "\t\t<dd>0.346345197091466</dd>\n",
       "</dl>\n"
      ],
      "text/latex": [
       "\\begin{description}\n",
       "\\item[\\$area] 0.787805192329076\n",
       "\\item[\\$cutoff] \\textbf{1108:} 0.338200904226656\n",
       "\\item[\\$sensopt] 0.8788752703677\n",
       "\\item[\\$spec\\_copt] 0.346345197091466\n",
       "\\end{description}\n"
      ],
      "text/markdown": [
       "$area\n",
       ":   0.787805192329076\n",
       "$cutoff\n",
       ":   **1108:** 0.338200904226656\n",
       "$sensopt\n",
       ":   0.8788752703677\n",
       "$spec_copt\n",
       ":   0.346345197091466\n",
       "\n",
       "\n"
      ],
      "text/plain": [
       "$area\n",
       "[1] 0.7878052\n",
       "\n",
       "$cutoff\n",
       "     1108 \n",
       "0.3382009 \n",
       "\n",
       "$sensopt\n",
       "[1] 0.8788753\n",
       "\n",
       "$spec_copt\n",
       "[1] 0.3463452\n"
      ]
     },
     "metadata": {},
     "output_type": "display_data"
    }
   ],
   "source": [
    "cat(\"\\n===================\\nArea under curve and Lift\\n=================\\n\")\n",
    "\n",
    "cat(\"\\n ∗ For Logistic regression\")#for ligistic regression\n",
    "npoints <- length(sens)\n",
    "\n",
    "# Discrete approximation area under the curve, using Trapezoidal Rule \n",
    "area <- sum(0.5 * (sens[-1] + sens[-npoints]) * (spec_c[-1] - \n",
    "        spec_c[-npoints]))\n",
    "\n",
    "\n",
    "# Alternative definition of lift: sensitivity rate - false positive rate\n",
    "lift <- (sens - spec_c)[-1]\n",
    "\n",
    "cutoff <- sort_fity[lift == max(lift)]\n",
    "sensopt <- sens[-1][lift == max(lift)]\n",
    "spec_copt <-  spec_c[-1][lift == max(lift)]\n",
    "    list(area = area, cutoff = cutoff, sensopt = sensopt, spec_copt = spec_copt)\n",
    "\n"
   ]
  },
  {
   "cell_type": "code",
   "execution_count": 14,
   "metadata": {},
   "outputs": [
    {
     "name": "stdout",
     "output_type": "stream",
     "text": [
      "\n",
      " ∗ For Random Forest"
     ]
    },
    {
     "data": {
      "text/html": [
       "<dl>\n",
       "\t<dt>$area2</dt>\n",
       "\t\t<dd>0.680613763305926</dd>\n",
       "\t<dt>$cutoff2</dt>\n",
       "\t\t<dd>0</dd>\n",
       "\t<dt>$sensopt</dt>\n",
       "\t\t<dd>0.596971881759192</dd>\n",
       "\t<dt>$spec_copt2</dt>\n",
       "\t\t<dd>0.23574435514734</dd>\n",
       "</dl>\n"
      ],
      "text/latex": [
       "\\begin{description}\n",
       "\\item[\\$area2] 0.680613763305926\n",
       "\\item[\\$cutoff2] 0\n",
       "\\item[\\$sensopt] 0.596971881759192\n",
       "\\item[\\$spec\\_copt2] 0.23574435514734\n",
       "\\end{description}\n"
      ],
      "text/markdown": [
       "$area2\n",
       ":   0.680613763305926\n",
       "$cutoff2\n",
       ":   0\n",
       "$sensopt\n",
       ":   0.596971881759192\n",
       "$spec_copt2\n",
       ":   0.23574435514734\n",
       "\n",
       "\n"
      ],
      "text/plain": [
       "$area2\n",
       "[1] 0.6806138\n",
       "\n",
       "$cutoff2\n",
       "[1] 0\n",
       "\n",
       "$sensopt\n",
       "[1] 0.5969719\n",
       "\n",
       "$spec_copt2\n",
       "[1] 0.2357444\n"
      ]
     },
     "metadata": {},
     "output_type": "display_data"
    }
   ],
   "source": [
    "cat(\"\\n ∗ For Random Forest\")\n",
    "\n",
    "npoints2 <- length(sens2)\n",
    "\n",
    "# Discrete approximation area under the curve, using Trapezoidal Rule\n",
    "area2 <- sum(0.5 * (sens2[-1] + sens2[-npoints2]) * (spec_c2[-1] - \n",
    "        spec_c2[-npoints2]))\n",
    "\n",
    "\n",
    "# Alternative definition of lift: sensitivity rate - false positive rate\n",
    "lift2 <- (sens2 - spec_c2)[-1]\n",
    "\n",
    "cutoff2 <- sort_fity2[lift2 == max(lift2)][1]\n",
    "sensopt2 <- sens2[-1][lift2 == max(lift2)][1]\n",
    "spec_copt2 <- spec_c2[-1][lift2 == max(lift2)][1]\n",
    "    list(area2 = area2, cutoff2 = cutoff2, sensopt = sensopt2, spec_copt2 = spec_copt2)"
   ]
  },
  {
   "cell_type": "markdown",
   "metadata": {},
   "source": [
    "### ∗  Extra BONUS \n",
    "### _Cross-validation_\n",
    "This is a y concept when talking about training your machine learning algorithms. \n",
    "Don't forget about it. Nowadays is an important step to avoid bias and error as much as possible. \n",
    "\n",
    "Using the SPAM dataset, you can split the data to train a machine learning model. This model will classify any other input data in nonSPAM info, or in SPAM info. You can test if the model works fine, by using as an input a test set (this set has not been used before for building the model). And If it classify well, perfect! But if it classify the data \n",
    "\n",
    "Considerations:\n",
    "* For time series data must be used in \"chunks\"\n",
    "* For k-fold cross validation\n",
    " * larger l = less bias, more variance\n",
    " * Smaller k = more bias, less variance\n",
    "* Random sampling must be done without replacement\n",
    "* Randome sampling with replacement is the _boostrap_ and it:\n",
    " * Underestimates the error\n",
    " * Can be corrected but can be complex (0.632 Bootstrap method)\n",
    "* If you cross-validate to pick predictiors estimate you must estimate errors on independent data. \n",
    "\n"
   ]
  },
  {
   "cell_type": "markdown",
   "metadata": {},
   "source": [
    "## ♦ ♦ ♦ ♦ ♦ ♦ ♦  End of Stage I  ♦ ♦ ♦ ♦ ♦ ♦ ♦ ♦ ♦\n",
    "\n",
    "What you did here...\n",
    "\n",
    "* **Steps** developed succesfully\n",
    "* **Question** defined correctly : _Can we  classify Spam or no-spam from a subset of features?_\n",
    "* **Data** collected succesfully : Spam loaded\n",
    "* **Features** word'Yours' and capitalAve tested sucesfully\n",
    "* First basic **algorithm** developed succesfully (thresholds 0.5 and rules for other thresholds)\n",
    "* **Evaluation** or the error and accuracy of our model/algorithm runned sucesfully.\n",
    "\n",
    "Now you have the basic concepts about these steps, let's start with 'caret' package to perform all these analysis  with the latest trends!"
   ]
  },
  {
   "cell_type": "markdown",
   "metadata": {},
   "source": []
  }
 ],
 "metadata": {
  "kernelspec": {
   "display_name": "R",
   "language": "R",
   "name": "ir"
  },
  "language_info": {
   "codemirror_mode": "r",
   "file_extension": ".r",
   "mimetype": "text/x-r-source",
   "name": "R",
   "pygments_lexer": "r",
   "version": "3.4.3"
  }
 },
 "nbformat": 4,
 "nbformat_minor": 2
}
